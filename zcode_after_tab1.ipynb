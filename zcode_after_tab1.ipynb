{
 "cells": [
  {
   "cell_type": "code",
   "execution_count": 6,
   "metadata": {},
   "outputs": [],
   "source": [
    "import pandas as pd\n",
    "from scipy.stats import ttest_ind"
   ]
  },
  {
   "attachments": {},
   "cell_type": "markdown",
   "metadata": {},
   "source": [
    "Playing around with Tableau, I discovered that films with the word \"zombie\" in the title were rated highed on IMBd than those without it. Here I will perform an independent two sample ttest for significance. "
   ]
  },
  {
   "cell_type": "code",
   "execution_count": 7,
   "metadata": {},
   "outputs": [
    {
     "data": {
      "text/html": [
       "<div>\n",
       "<style scoped>\n",
       "    .dataframe tbody tr th:only-of-type {\n",
       "        vertical-align: middle;\n",
       "    }\n",
       "\n",
       "    .dataframe tbody tr th {\n",
       "        vertical-align: top;\n",
       "    }\n",
       "\n",
       "    .dataframe thead th {\n",
       "        text-align: right;\n",
       "    }\n",
       "</style>\n",
       "<table border=\"1\" class=\"dataframe\">\n",
       "  <thead>\n",
       "    <tr style=\"text-align: right;\">\n",
       "      <th></th>\n",
       "      <th>Unnamed: 0</th>\n",
       "      <th>Title</th>\n",
       "      <th>Title Type</th>\n",
       "      <th>IMDb Rating</th>\n",
       "      <th>Runtime (mins)</th>\n",
       "      <th>Year</th>\n",
       "      <th>Genres</th>\n",
       "      <th>Num Votes</th>\n",
       "      <th>Release Date</th>\n",
       "      <th>Directors</th>\n",
       "      <th>...</th>\n",
       "      <th>Crime</th>\n",
       "      <th>Romance</th>\n",
       "      <th>War</th>\n",
       "      <th>Fantasy</th>\n",
       "      <th>Animation</th>\n",
       "      <th>Musical</th>\n",
       "      <th>Family</th>\n",
       "      <th>Western</th>\n",
       "      <th>Title_Dead</th>\n",
       "      <th>Title_Zombie</th>\n",
       "    </tr>\n",
       "  </thead>\n",
       "  <tbody>\n",
       "    <tr>\n",
       "      <th>0</th>\n",
       "      <td>247</td>\n",
       "      <td>Das Cabinet des Dr. Caligari</td>\n",
       "      <td>movie</td>\n",
       "      <td>8.0</td>\n",
       "      <td>76.0</td>\n",
       "      <td>1920</td>\n",
       "      <td>Horror, Mystery, Thriller</td>\n",
       "      <td>65778</td>\n",
       "      <td>1920-02-26</td>\n",
       "      <td>Robert Wiene</td>\n",
       "      <td>...</td>\n",
       "      <td>False</td>\n",
       "      <td>False</td>\n",
       "      <td>False</td>\n",
       "      <td>False</td>\n",
       "      <td>False</td>\n",
       "      <td>False</td>\n",
       "      <td>False</td>\n",
       "      <td>False</td>\n",
       "      <td>False</td>\n",
       "      <td>False</td>\n",
       "    </tr>\n",
       "    <tr>\n",
       "      <th>1</th>\n",
       "      <td>85</td>\n",
       "      <td>White Zombie</td>\n",
       "      <td>movie</td>\n",
       "      <td>6.2</td>\n",
       "      <td>69.0</td>\n",
       "      <td>1932</td>\n",
       "      <td>Horror</td>\n",
       "      <td>10982</td>\n",
       "      <td>1932-07-28</td>\n",
       "      <td>Victor Halperin</td>\n",
       "      <td>...</td>\n",
       "      <td>False</td>\n",
       "      <td>False</td>\n",
       "      <td>False</td>\n",
       "      <td>False</td>\n",
       "      <td>False</td>\n",
       "      <td>False</td>\n",
       "      <td>False</td>\n",
       "      <td>False</td>\n",
       "      <td>False</td>\n",
       "      <td>True</td>\n",
       "    </tr>\n",
       "    <tr>\n",
       "      <th>2</th>\n",
       "      <td>48</td>\n",
       "      <td>The Walking Dead</td>\n",
       "      <td>movie</td>\n",
       "      <td>6.6</td>\n",
       "      <td>66.0</td>\n",
       "      <td>1936</td>\n",
       "      <td>Crime, Drama, Horror, Sci-Fi</td>\n",
       "      <td>2789</td>\n",
       "      <td>1936-03-01</td>\n",
       "      <td>Michael Curtiz</td>\n",
       "      <td>...</td>\n",
       "      <td>True</td>\n",
       "      <td>False</td>\n",
       "      <td>False</td>\n",
       "      <td>False</td>\n",
       "      <td>False</td>\n",
       "      <td>False</td>\n",
       "      <td>False</td>\n",
       "      <td>False</td>\n",
       "      <td>True</td>\n",
       "      <td>False</td>\n",
       "    </tr>\n",
       "    <tr>\n",
       "      <th>3</th>\n",
       "      <td>86</td>\n",
       "      <td>Revolt of the Zombies</td>\n",
       "      <td>movie</td>\n",
       "      <td>3.4</td>\n",
       "      <td>65.0</td>\n",
       "      <td>1936</td>\n",
       "      <td>Adventure, Horror</td>\n",
       "      <td>1779</td>\n",
       "      <td>1936-06-04</td>\n",
       "      <td>Victor Halperin</td>\n",
       "      <td>...</td>\n",
       "      <td>False</td>\n",
       "      <td>False</td>\n",
       "      <td>False</td>\n",
       "      <td>False</td>\n",
       "      <td>False</td>\n",
       "      <td>False</td>\n",
       "      <td>False</td>\n",
       "      <td>False</td>\n",
       "      <td>False</td>\n",
       "      <td>True</td>\n",
       "    </tr>\n",
       "    <tr>\n",
       "      <th>4</th>\n",
       "      <td>87</td>\n",
       "      <td>King of the Zombies</td>\n",
       "      <td>movie</td>\n",
       "      <td>5.2</td>\n",
       "      <td>67.0</td>\n",
       "      <td>1941</td>\n",
       "      <td>Adventure, Comedy, Horror</td>\n",
       "      <td>2340</td>\n",
       "      <td>1941-05-14</td>\n",
       "      <td>Jean Yarbrough</td>\n",
       "      <td>...</td>\n",
       "      <td>False</td>\n",
       "      <td>False</td>\n",
       "      <td>False</td>\n",
       "      <td>False</td>\n",
       "      <td>False</td>\n",
       "      <td>False</td>\n",
       "      <td>False</td>\n",
       "      <td>False</td>\n",
       "      <td>False</td>\n",
       "      <td>True</td>\n",
       "    </tr>\n",
       "  </tbody>\n",
       "</table>\n",
       "<p>5 rows × 29 columns</p>\n",
       "</div>"
      ],
      "text/plain": [
       "   Unnamed: 0                         Title Title Type  IMDb Rating  \\\n",
       "0         247  Das Cabinet des Dr. Caligari      movie          8.0   \n",
       "1          85                  White Zombie      movie          6.2   \n",
       "2          48              The Walking Dead      movie          6.6   \n",
       "3          86         Revolt of the Zombies      movie          3.4   \n",
       "4          87           King of the Zombies      movie          5.2   \n",
       "\n",
       "   Runtime (mins)  Year                        Genres  Num Votes Release Date  \\\n",
       "0            76.0  1920     Horror, Mystery, Thriller      65778   1920-02-26   \n",
       "1            69.0  1932                        Horror      10982   1932-07-28   \n",
       "2            66.0  1936  Crime, Drama, Horror, Sci-Fi       2789   1936-03-01   \n",
       "3            65.0  1936             Adventure, Horror       1779   1936-06-04   \n",
       "4            67.0  1941     Adventure, Comedy, Horror       2340   1941-05-14   \n",
       "\n",
       "         Directors  ...  Crime  Romance    War  Fantasy  Animation  Musical  \\\n",
       "0     Robert Wiene  ...  False    False  False    False      False    False   \n",
       "1  Victor Halperin  ...  False    False  False    False      False    False   \n",
       "2   Michael Curtiz  ...   True    False  False    False      False    False   \n",
       "3  Victor Halperin  ...  False    False  False    False      False    False   \n",
       "4   Jean Yarbrough  ...  False    False  False    False      False    False   \n",
       "\n",
       "   Family  Western  Title_Dead  Title_Zombie  \n",
       "0   False    False       False         False  \n",
       "1   False    False       False          True  \n",
       "2   False    False        True         False  \n",
       "3   False    False       False          True  \n",
       "4   False    False       False          True  \n",
       "\n",
       "[5 rows x 29 columns]"
      ]
     },
     "execution_count": 7,
     "metadata": {},
     "output_type": "execute_result"
    }
   ],
   "source": [
    "df = pd.read_csv('zombie_movies.csv')\n",
    "df.head()"
   ]
  },
  {
   "cell_type": "code",
   "execution_count": 8,
   "metadata": {},
   "outputs": [
    {
     "data": {
      "text/plain": [
       "Ttest_indResult(statistic=-3.9392213820358135, pvalue=0.00010720897118688328)"
      ]
     },
     "execution_count": 8,
     "metadata": {},
     "output_type": "execute_result"
    }
   ],
   "source": [
    "#define samples\n",
    "Z_true = df[df['Title_Zombie']==True]\n",
    "Z_false = df[df['Title_Zombie']==False]\n",
    "\n",
    "#t-test\n",
    "ttest_ind(Z_true['IMDb Rating'], Z_false['IMDb Rating'])"
   ]
  },
  {
   "cell_type": "code",
   "execution_count": 9,
   "metadata": {},
   "outputs": [
    {
     "data": {
      "text/plain": [
       "Ttest_indResult(statistic=-3.3787672588879754, pvalue=0.0021652150999688455)"
      ]
     },
     "execution_count": 9,
     "metadata": {},
     "output_type": "execute_result"
    }
   ],
   "source": [
    "#define samples\n",
    "Z_true = df[df['Title_Zombie']==True]\n",
    "Z_false = df[df['Title_Zombie']==False]\n",
    "\n",
    "#Welch's t-test, so drop the assumption of equal variance between the groups.\n",
    "ttest_ind(Z_true['IMDb Rating'], Z_false['IMDb Rating'], equal_var = False)"
   ]
  },
  {
   "attachments": {},
   "cell_type": "markdown",
   "metadata": {},
   "source": [
    "The results are significant at p < 0.001 in the regular independent samples ttest, and in Welch's ttest they are still significant at the p < 0.01 level>. \n",
    "\n",
    "From here I will proceed to run tests like this on the various genres."
   ]
  },
  {
   "cell_type": "code",
   "execution_count": 33,
   "metadata": {},
   "outputs": [],
   "source": [
    "#creating function to streamline the process going forward\n",
    "def zttest(col_name):\n",
    "    #define samples\n",
    "    Z_true = df[col_name==True]\n",
    "    Z_false = df[col_name==False]\n",
    "    print(\"Results of independent samples test:\")\n",
    "    print(ttest_ind(Z_true['IMDb Rating'], Z_false['IMDb Rating']))\n",
    "    print(\"Results of Welch's test:\")\n",
    "    print(ttest_ind(Z_true['IMDb Rating'], Z_false['IMDb Rating'], equal_var=False))\n",
    "    return\n",
    "    "
   ]
  },
  {
   "cell_type": "code",
   "execution_count": 34,
   "metadata": {},
   "outputs": [
    {
     "name": "stdout",
     "output_type": "stream",
     "text": [
      "Results of independent samples test:\n",
      "Ttest_indResult(statistic=-1.4333568583127096, pvalue=0.15305730093698186)\n",
      "Results of Welch's test:\n",
      "Ttest_indResult(statistic=-1.3324706293860544, pvalue=0.1862310992625)\n"
     ]
    }
   ],
   "source": [
    "zttest(df['Action'])"
   ]
  },
  {
   "attachments": {},
   "cell_type": "markdown",
   "metadata": {},
   "source": [
    "The results are not significant for the Action genre."
   ]
  },
  {
   "cell_type": "code",
   "execution_count": 20,
   "metadata": {},
   "outputs": [
    {
     "data": {
      "text/plain": [
       "Index(['Unnamed: 0', 'Title', 'Title Type', 'IMDb Rating', 'Runtime (mins)',\n",
       "       'Year', 'Genres', 'Num Votes', 'Release Date', 'Directors', 'Horror',\n",
       "       'Sci-Fi', 'Drama', 'Thriller', 'Comedy', 'Adventure', 'Action', 'Adult',\n",
       "       'Mystery', 'Crime', 'Romance', 'War', 'Fantasy', 'Animation', 'Musical',\n",
       "       'Family', 'Western', 'Title_Dead', 'Title_Zombie'],\n",
       "      dtype='object')"
      ]
     },
     "execution_count": 20,
     "metadata": {},
     "output_type": "execute_result"
    }
   ],
   "source": [
    "df.columns"
   ]
  },
  {
   "cell_type": "code",
   "execution_count": 35,
   "metadata": {},
   "outputs": [
    {
     "name": "stdout",
     "output_type": "stream",
     "text": [
      "Results of independent samples test:\n",
      "Ttest_indResult(statistic=-0.5569568581794282, pvalue=0.578075911714347)\n",
      "Results of Welch's test:\n",
      "Ttest_indResult(statistic=-0.4930555630270584, pvalue=0.6363176662287826)\n"
     ]
    }
   ],
   "source": [
    "zttest(df['Horror'])"
   ]
  },
  {
   "cell_type": "code",
   "execution_count": 36,
   "metadata": {},
   "outputs": [
    {
     "name": "stdout",
     "output_type": "stream",
     "text": [
      "Results of independent samples test:\n",
      "Ttest_indResult(statistic=-0.5317833166753737, pvalue=0.595367963357024)\n",
      "Results of Welch's test:\n",
      "Ttest_indResult(statistic=-0.5410661018219812, pvalue=0.5890222441784569)\n"
     ]
    }
   ],
   "source": [
    "zttest(df['Sci-Fi'])"
   ]
  },
  {
   "cell_type": "code",
   "execution_count": 37,
   "metadata": {},
   "outputs": [
    {
     "name": "stdout",
     "output_type": "stream",
     "text": [
      "Results of independent samples test:\n",
      "Ttest_indResult(statistic=1.3110353301199626, pvalue=0.1910988355841852)\n",
      "Results of Welch's test:\n",
      "Ttest_indResult(statistic=1.4710112479189885, pvalue=0.14857387292738394)\n"
     ]
    }
   ],
   "source": [
    "zttest(df['Drama'])"
   ]
  },
  {
   "cell_type": "code",
   "execution_count": 38,
   "metadata": {},
   "outputs": [
    {
     "name": "stdout",
     "output_type": "stream",
     "text": [
      "Results of independent samples test:\n",
      "Ttest_indResult(statistic=1.9110960884408403, pvalue=0.057183570738536194)\n",
      "Results of Welch's test:\n",
      "Ttest_indResult(statistic=1.9337674550057689, pvalue=0.05529269669344954)\n"
     ]
    }
   ],
   "source": [
    "zttest(df['Thriller'])"
   ]
  },
  {
   "cell_type": "code",
   "execution_count": 39,
   "metadata": {},
   "outputs": [
    {
     "name": "stdout",
     "output_type": "stream",
     "text": [
      "Results of independent samples test:\n",
      "Ttest_indResult(statistic=1.2934964479755398, pvalue=0.19708295498136574)\n",
      "Results of Welch's test:\n",
      "Ttest_indResult(statistic=1.3835379096733165, pvalue=0.16862055501766904)\n"
     ]
    }
   ],
   "source": [
    "zttest(df['Comedy'])"
   ]
  },
  {
   "cell_type": "code",
   "execution_count": 40,
   "metadata": {},
   "outputs": [
    {
     "name": "stdout",
     "output_type": "stream",
     "text": [
      "Results of independent samples test:\n",
      "Ttest_indResult(statistic=1.0734618658493917, pvalue=0.28414205930430675)\n",
      "Results of Welch's test:\n",
      "Ttest_indResult(statistic=1.064732018117567, pvalue=0.29764452168538125)\n"
     ]
    }
   ],
   "source": [
    "zttest(df['Adventure'])"
   ]
  },
  {
   "cell_type": "code",
   "execution_count": 41,
   "metadata": {},
   "outputs": [
    {
     "name": "stdout",
     "output_type": "stream",
     "text": [
      "Results of independent samples test:\n",
      "Ttest_indResult(statistic=2.7355147002434905, pvalue=0.0066933971948343165)\n",
      "Results of Welch's test:\n",
      "Ttest_indResult(statistic=3.007051495507354, pvalue=0.006818503945862065)\n"
     ]
    }
   ],
   "source": [
    "zttest(df['Mystery'])"
   ]
  },
  {
   "attachments": {},
   "cell_type": "markdown",
   "metadata": {},
   "source": [
    "Significant results for mystery at p < 0.01. I will check the value counts before moving on."
   ]
  },
  {
   "cell_type": "code",
   "execution_count": 42,
   "metadata": {},
   "outputs": [
    {
     "data": {
      "text/plain": [
       "False    224\n",
       "True      18\n",
       "Name: Mystery, dtype: int64"
      ]
     },
     "execution_count": 42,
     "metadata": {},
     "output_type": "execute_result"
    }
   ],
   "source": [
    "df['Mystery'].value_counts()"
   ]
  },
  {
   "cell_type": "code",
   "execution_count": 43,
   "metadata": {},
   "outputs": [
    {
     "name": "stdout",
     "output_type": "stream",
     "text": [
      "Results of independent samples test:\n",
      "Ttest_indResult(statistic=1.2206459053342795, pvalue=0.2234180228132845)\n",
      "Results of Welch's test:\n",
      "Ttest_indResult(statistic=1.3193861644769156, pvalue=0.2255157989588943)\n"
     ]
    }
   ],
   "source": [
    "zttest(df['Crime'])"
   ]
  },
  {
   "cell_type": "code",
   "execution_count": 44,
   "metadata": {},
   "outputs": [
    {
     "data": {
      "text/plain": [
       "Index(['Unnamed: 0', 'Title', 'Title Type', 'IMDb Rating', 'Runtime (mins)',\n",
       "       'Year', 'Genres', 'Num Votes', 'Release Date', 'Directors', 'Horror',\n",
       "       'Sci-Fi', 'Drama', 'Thriller', 'Comedy', 'Adventure', 'Action', 'Adult',\n",
       "       'Mystery', 'Crime', 'Romance', 'War', 'Fantasy', 'Animation', 'Musical',\n",
       "       'Family', 'Western', 'Title_Dead', 'Title_Zombie'],\n",
       "      dtype='object')"
      ]
     },
     "execution_count": 44,
     "metadata": {},
     "output_type": "execute_result"
    }
   ],
   "source": [
    "df.columns"
   ]
  },
  {
   "cell_type": "code",
   "execution_count": 45,
   "metadata": {},
   "outputs": [
    {
     "name": "stdout",
     "output_type": "stream",
     "text": [
      "Results of independent samples test:\n",
      "Ttest_indResult(statistic=1.4176055225970774, pvalue=0.15760292929053396)\n",
      "Results of Welch's test:\n",
      "Ttest_indResult(statistic=1.5352704357283475, pvalue=0.18198826766642692)\n"
     ]
    }
   ],
   "source": [
    "zttest(df['Romance'])"
   ]
  },
  {
   "cell_type": "code",
   "execution_count": 46,
   "metadata": {},
   "outputs": [
    {
     "name": "stdout",
     "output_type": "stream",
     "text": [
      "Results of independent samples test:\n",
      "Ttest_indResult(statistic=-1.2704763875241218, pvalue=0.20514519434135278)\n",
      "Results of Welch's test:\n",
      "Ttest_indResult(statistic=-0.7417775442323461, pvalue=0.5931360232551979)\n"
     ]
    }
   ],
   "source": [
    "zttest(df['War'])"
   ]
  },
  {
   "cell_type": "code",
   "execution_count": 47,
   "metadata": {},
   "outputs": [
    {
     "name": "stdout",
     "output_type": "stream",
     "text": [
      "Results of independent samples test:\n",
      "Ttest_indResult(statistic=1.6955861226694362, pvalue=0.09126110887894114)\n",
      "Results of Welch's test:\n",
      "Ttest_indResult(statistic=1.7511501129216782, pvalue=0.08953328622963393)\n"
     ]
    }
   ],
   "source": [
    "zttest(df['Fantasy'])"
   ]
  },
  {
   "cell_type": "code",
   "execution_count": 48,
   "metadata": {},
   "outputs": [
    {
     "name": "stdout",
     "output_type": "stream",
     "text": [
      "Results of independent samples test:\n",
      "Ttest_indResult(statistic=0.1562655699356391, pvalue=0.8759550579762747)\n",
      "Results of Welch's test:\n",
      "Ttest_indResult(statistic=0.07587935525145027, pvalue=0.9517501188126114)\n"
     ]
    }
   ],
   "source": [
    "zttest(df['Animation'])"
   ]
  },
  {
   "cell_type": "code",
   "execution_count": 49,
   "metadata": {},
   "outputs": [
    {
     "name": "stdout",
     "output_type": "stream",
     "text": [
      "Results of independent samples test:\n",
      "Ttest_indResult(statistic=1.3363524132145101, pvalue=0.1826996953800357)\n",
      "Results of Welch's test:\n",
      "Ttest_indResult(statistic=1.8641349562512284, pvalue=0.1972153502706195)\n"
     ]
    }
   ],
   "source": [
    "zttest(df['Musical'])"
   ]
  },
  {
   "cell_type": "code",
   "execution_count": 51,
   "metadata": {},
   "outputs": [
    {
     "name": "stdout",
     "output_type": "stream",
     "text": [
      "Results of independent samples test:\n",
      "Ttest_indResult(statistic=-0.3174884486271553, pvalue=0.7511490422921452)\n",
      "Results of Welch's test:\n",
      "Ttest_indResult(statistic=-0.23083333336771641, pvalue=0.8386612086857858)\n"
     ]
    }
   ],
   "source": [
    "zttest(df['Western'])"
   ]
  },
  {
   "cell_type": "code",
   "execution_count": 52,
   "metadata": {},
   "outputs": [
    {
     "name": "stdout",
     "output_type": "stream",
     "text": [
      "Results of independent samples test:\n",
      "Ttest_indResult(statistic=-0.05767469409782866, pvalue=0.9540557408051231)\n",
      "Results of Welch's test:\n",
      "Ttest_indResult(statistic=-0.05416186370346874, pvalue=0.9569817072755918)\n"
     ]
    }
   ],
   "source": [
    "zttest(df['Title_Dead'])"
   ]
  },
  {
   "cell_type": "code",
   "execution_count": 53,
   "metadata": {},
   "outputs": [
    {
     "data": {
      "text/plain": [
       "False    241\n",
       "True       1\n",
       "Name: Family, dtype: int64"
      ]
     },
     "execution_count": 53,
     "metadata": {},
     "output_type": "execute_result"
    }
   ],
   "source": [
    "df['Family'].value_counts()"
   ]
  },
  {
   "attachments": {},
   "cell_type": "markdown",
   "metadata": {},
   "source": [
    "Family and Adult films (above and below, respectively), did not have enough in the True category for the ttest to run."
   ]
  },
  {
   "cell_type": "code",
   "execution_count": 54,
   "metadata": {},
   "outputs": [
    {
     "data": {
      "text/plain": [
       "False    241\n",
       "True       1\n",
       "Name: Adult, dtype: int64"
      ]
     },
     "execution_count": 54,
     "metadata": {},
     "output_type": "execute_result"
    }
   ],
   "source": [
    "df['Adult'].value_counts()"
   ]
  },
  {
   "cell_type": "code",
   "execution_count": null,
   "metadata": {},
   "outputs": [],
   "source": []
  }
 ],
 "metadata": {
  "kernelspec": {
   "display_name": "zombie_movies",
   "language": "python",
   "name": "python3"
  },
  "language_info": {
   "codemirror_mode": {
    "name": "ipython",
    "version": 3
   },
   "file_extension": ".py",
   "mimetype": "text/x-python",
   "name": "python",
   "nbconvert_exporter": "python",
   "pygments_lexer": "ipython3",
   "version": "3.10.9"
  },
  "orig_nbformat": 4
 },
 "nbformat": 4,
 "nbformat_minor": 2
}
